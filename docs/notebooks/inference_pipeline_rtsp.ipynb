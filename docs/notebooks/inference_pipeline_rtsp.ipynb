{
 "cells": [
  {
   "cell_type": "markdown",
   "metadata": {},
   "source": [
    "\n",
    "# InferencePipeline on RTSP Stream\n",
    "\n",
    "---\n",
    "[![Colab](https://colab.research.google.com/assets/colab-badge.svg)](https://github.com/roboflow/notebooks/blob/main/notebooks/vector-analysis-with-sklearn-and-bokeh.ipynb)\n",
    "[![Roboflow](https://raw.githubusercontent.com/roboflow-ai/notebooks/main/assets/badges/roboflow-blogpost.svg)](https://blog.roboflow.com/vector-analysis)\n",
    "[![GitHub](https://badges.aleen42.com/src/github.svg)](https://github.com/roboflow/notebooks)\n",
    "\n",
    "Click the Open in Colab button to run the cookbook on Google Colab.\n",
    "\n",
    "**Let's begin!**"
   ]
  },
  {
   "cell_type": "code",
   "execution_count": null,
   "metadata": {},
   "outputs": [],
   "source": [
    "from inference.core.interfaces.stream.inference_pipeline import InferencePipeline\n",
    "from inference.core.interfaces.stream.sinks import render_boxes\n",
    "import supervision as sv\n",
    "\n",
    "# Create an instance of FPSMonitor\n",
    "\n",
    "fps_monitor = sv.FPSMonitor()\n",
    "\n",
    "\n",
    "REGISTERED_ALIASES = {\n",
    "    \"yolov8n-640\": \"coco/3\",\n",
    "    \"yolov8n-1280\": \"coco/9\",\n",
    "    \"yolov8m-640\": \"coco/8\"\n",
    "}\n",
    "\n",
    "API_KEY = \"API_KEY\"\n",
    "RTSP_STREAM = \"RTSP_URL\"\n",
    "\n",
    "# Example alias\n",
    "alias = \"yolov8n-640\"\n",
    "\n",
    "# Function to resolve an alias to the actual model ID\n",
    "def resolve_roboflow_model_alias(model_id: str) -> str:\n",
    "    return REGISTERED_ALIASES.get(model_id, model_id)\n",
    "\n",
    "# Resolve the alias to get the actual model ID\n",
    "model_name = resolve_roboflow_model_alias(alias)\n",
    "\n",
    "# Modify the render_boxes function to enable displaying statistics\n",
    "def on_prediction(predictions, video_frame):\n",
    "    render_boxes(\n",
    "        predictions=predictions,\n",
    "        video_frame=video_frame,\n",
    "        fps_monitor=fps_monitor,  # Pass the FPS monitor object\n",
    "        display_statistics=True,   # Enable displaying statistics\n",
    "    )\n",
    "    \n",
    "\n",
    "pipeline = InferencePipeline.init(\n",
    "    model_id= model_name,\n",
    "    video_reference=RTSP_STREAM,\n",
    "    on_prediction=on_prediction,\n",
    "    api_key=API_KEY,\n",
    "    confidence=0.5,\n",
    ")\n",
    "\n",
    "pipeline.start()\n",
    "pipeline.join()\n"
   ]
  }
 ],
 "metadata": {
  "language_info": {
   "name": "python"
  }
 },
 "nbformat": 4,
 "nbformat_minor": 2
}
