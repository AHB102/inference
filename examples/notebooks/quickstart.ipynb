{
 "cells": [
  {
   "cell_type": "code",
   "execution_count": 3,
   "id": "7a2b0a52-14ad-4a10-9d18-832be5a7ed81",
   "metadata": {},
   "outputs": [
    {
     "name": "stdout",
     "output_type": "stream",
     "text": [
      "Requirement already satisfied: supervision in /usr/local/lib/python3.9/site-packages (0.17.1)\n",
      "Requirement already satisfied: matplotlib>=3.5.0 in /usr/local/lib/python3.9/site-packages (from supervision) (3.8.2)\n",
      "Requirement already satisfied: numpy>=1.21.2 in /usr/local/lib/python3.9/site-packages (from supervision) (1.25.2)\n",
      "Requirement already satisfied: opencv-python-headless<=4.8.1.78,>=4.5.5.64 in /usr/local/lib/python3.9/site-packages (from supervision) (4.8.1.78)\n",
      "Requirement already satisfied: pillow>=9.4 in /usr/local/lib/python3.9/site-packages (from supervision) (10.1.0)\n",
      "Requirement already satisfied: pyyaml>=5.3 in /usr/local/lib/python3.9/site-packages (from supervision) (6.0.1)\n",
      "Requirement already satisfied: scipy>=1.9.0 in /usr/local/lib/python3.9/site-packages (from supervision) (1.11.4)\n",
      "Requirement already satisfied: contourpy>=1.0.1 in /usr/local/lib/python3.9/site-packages (from matplotlib>=3.5.0->supervision) (1.2.0)\n",
      "Requirement already satisfied: cycler>=0.10 in /usr/local/lib/python3.9/site-packages (from matplotlib>=3.5.0->supervision) (0.12.1)\n",
      "Requirement already satisfied: fonttools>=4.22.0 in /usr/local/lib/python3.9/site-packages (from matplotlib>=3.5.0->supervision) (4.47.0)\n",
      "Requirement already satisfied: kiwisolver>=1.3.1 in /usr/local/lib/python3.9/site-packages (from matplotlib>=3.5.0->supervision) (1.4.5)\n",
      "Requirement already satisfied: packaging>=20.0 in /usr/local/lib/python3.9/site-packages (from matplotlib>=3.5.0->supervision) (23.2)\n",
      "Requirement already satisfied: pyparsing>=2.3.1 in /usr/local/lib/python3.9/site-packages (from matplotlib>=3.5.0->supervision) (3.1.1)\n",
      "Requirement already satisfied: python-dateutil>=2.7 in /usr/local/lib/python3.9/site-packages (from matplotlib>=3.5.0->supervision) (2.8.2)\n",
      "Requirement already satisfied: importlib-resources>=3.2.0 in /usr/local/lib/python3.9/site-packages (from matplotlib>=3.5.0->supervision) (6.1.1)\n",
      "Requirement already satisfied: zipp>=3.1.0 in /usr/local/lib/python3.9/site-packages (from importlib-resources>=3.2.0->matplotlib>=3.5.0->supervision) (3.17.0)\n",
      "Requirement already satisfied: six>=1.5 in /usr/local/lib/python3.9/site-packages (from python-dateutil>=2.7->matplotlib>=3.5.0->supervision) (1.16.0)\n",
      "\u001b[33mWARNING: Running pip as the 'root' user can result in broken permissions and conflicting behaviour with the system package manager. It is recommended to use a virtual environment instead: https://pip.pypa.io/warnings/venv\u001b[0m\u001b[33m\n",
      "\u001b[0m"
     ]
    }
   ],
   "source": [
    "!pip install supervision"
   ]
  },
  {
   "cell_type": "code",
   "execution_count": 2,
   "id": "58dd049c-dcc6-4d0b-85ad-e6d1c0ba805b",
   "metadata": {},
   "outputs": [
    {
     "name": "stderr",
     "output_type": "stream",
     "text": [
      "/usr/local/lib/python3.9/site-packages/onnxruntime/capi/onnxruntime_inference_collection.py:65: UserWarning: Specified provider 'CUDAExecutionProvider' is not in available provider names.Available providers: 'CPUExecutionProvider'\n",
      "  warnings.warn(\n"
     ]
    },
    {
     "name": "stdout",
     "output_type": "stream",
     "text": [
      "[ObjectDetectionInferenceResponse(visualization=None, frame_id=None, time=None, image=InferenceResponseImage(width=2304, height=1728), predictions=[ObjectDetectionPrediction(x=759.0, y=808.5, width=78.0, height=105.0, confidence=0.8841058611869812, class_name='player', class_confidence=None, class_id=1, tracker_id=None), ObjectDetectionPrediction(x=968.5, y=837.0, width=63.0, height=156.0, confidence=0.866274893283844, class_name='player', class_confidence=None, class_id=1, tracker_id=None), ObjectDetectionPrediction(x=612.5, y=793.0, width=49.0, height=152.0, confidence=0.8658953905105591, class_name='player', class_confidence=None, class_id=1, tracker_id=None), ObjectDetectionPrediction(x=1689.0, y=1146.5, width=144.0, height=141.0, confidence=0.8657784461975098, class_name='player', class_confidence=None, class_id=1, tracker_id=None), ObjectDetectionPrediction(x=1622.5, y=951.0, width=79.0, height=160.0, confidence=0.8612775802612305, class_name='player', class_confidence=None, class_id=1, tracker_id=None), ObjectDetectionPrediction(x=1408.5, y=910.5, width=59.0, height=159.0, confidence=0.8570612072944641, class_name='player', class_confidence=None, class_id=1, tracker_id=None), ObjectDetectionPrediction(x=1061.5, y=833.0, width=67.0, height=136.0, confidence=0.8543124198913574, class_name='player', class_confidence=None, class_id=1, tracker_id=None), ObjectDetectionPrediction(x=1809.5, y=976.0, width=77.0, height=160.0, confidence=0.8437602519989014, class_name='player', class_confidence=None, class_id=1, tracker_id=None), ObjectDetectionPrediction(x=2076.5, y=1308.0, width=115.0, height=184.0, confidence=0.8247343301773071, class_name='player', class_confidence=None, class_id=1, tracker_id=None), ObjectDetectionPrediction(x=563.5, y=1180.0, width=69.0, height=182.0, confidence=0.823998212814331, class_name='player', class_confidence=None, class_id=1, tracker_id=None), ObjectDetectionPrediction(x=1510.5, y=820.0, width=77.0, height=140.0, confidence=0.8219612836837769, class_name='player', class_confidence=None, class_id=1, tracker_id=None), ObjectDetectionPrediction(x=55.0, y=1115.0, width=84.0, height=208.0, confidence=0.8029930591583252, class_name='player', class_confidence=None, class_id=1, tracker_id=None), ObjectDetectionPrediction(x=1911.0, y=1177.5, width=88.0, height=205.0, confidence=0.784632682800293, class_name='player', class_confidence=None, class_id=1, tracker_id=None), ObjectDetectionPrediction(x=1454.5, y=1224.5, width=121.0, height=207.0, confidence=0.7713655233383179, class_name='player', class_confidence=None, class_id=1, tracker_id=None), ObjectDetectionPrediction(x=2255.5, y=1648.0, width=97.0, height=160.0, confidence=0.6980146169662476, class_name='player', class_confidence=None, class_id=1, tracker_id=None), ObjectDetectionPrediction(x=1492.0, y=935.0, width=64.0, height=176.0, confidence=0.6881337761878967, class_name='player', class_confidence=None, class_id=1, tracker_id=None), ObjectDetectionPrediction(x=636.5, y=1037.0, width=55.0, height=182.0, confidence=0.6851022243499756, class_name='player', class_confidence=None, class_id=1, tracker_id=None)])]\n"
     ]
    }
   ],
   "source": [
    "import requests\n",
    "\n",
    "import numpy as np\n",
    "from PIL import Image\n",
    "\n",
    "from inference.models.utils import get_roboflow_model\n",
    "from inference.core.env import API_KEY\n",
    "\n",
    "if API_KEY is None:\n",
    "    api_key = input(\"Input your Roboflow API Key:\")\n",
    "else:\n",
    "    api_key = API_KEY\n",
    "    \n",
    "\n",
    "image_url = (\n",
    "    \"https://storage.googleapis.com/com-roboflow-marketing/inference/soccer2.jpg\"\n",
    ")\n",
    "\n",
    "model = get_roboflow_model(\n",
    "    model_id=\"soccer-players-5fuqs/1\",\n",
    "    api_key=api_key\n",
    ")\n",
    "\n",
    "image = Image.open(\n",
    "    requests.get(image_url, stream=True).raw\n",
    ")\n",
    "\n",
    "result = model.infer(image)\n",
    "\n",
    "print(result)"
   ]
  },
  {
   "cell_type": "code",
   "execution_count": null,
   "id": "b591f789-6371-4d23-9690-821ea43140d5",
   "metadata": {},
   "outputs": [],
   "source": []
  }
 ],
 "metadata": {
  "kernelspec": {
   "display_name": "Python 3 (ipykernel)",
   "language": "python",
   "name": "python3"
  },
  "language_info": {
   "codemirror_mode": {
    "name": "ipython",
    "version": 3
   },
   "file_extension": ".py",
   "mimetype": "text/x-python",
   "name": "python",
   "nbconvert_exporter": "python",
   "pygments_lexer": "ipython3",
   "version": "3.9.18"
  }
 },
 "nbformat": 4,
 "nbformat_minor": 5
}
